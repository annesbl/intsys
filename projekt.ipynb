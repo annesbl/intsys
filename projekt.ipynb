{
 "cells": [
  {
   "cell_type": "markdown",
   "metadata": {},
   "source": [
    "# Objekterkennung IntSys\n",
    "\n",
    "In diesem Projekt sollen Objekte auf einem Drehteller mithilfe eines Ultraschall Sensors (HCSR04) erkannt werden.\n",
    "\n",
    "Die gemessenen Daten befinden sich im Unterordner \"messdaten\"\n",
    "\n",
    "### Primär orientieren wir uns an der digits-erkennen Übung, und benutzen sklearn"
   ]
  },
  {
   "cell_type": "code",
   "execution_count": 2,
   "metadata": {},
   "outputs": [],
   "source": [
    "import matplotlib.pyplot as plt\n",
    "from sklearn import datasets, metrics, svm\n",
    "from sklearn.model_selection import train_test_split\n",
    "import pandas as pd\n",
    "import os"
   ]
  },
  {
   "cell_type": "code",
   "execution_count": 8,
   "metadata": {},
   "outputs": [],
   "source": [
    "current_directory = os.getcwd()\n",
    "\n",
    "# Specify the relative path from the current working directory\n",
    "directory = \"/Users/annesoballa/Documents/intsys übung/projekt/messungen/\"\n",
    "file = \"/logfile_deo_dose_53mm.txt\"\n",
    "file_path = os.path.join(file)\n",
    "df = pd.read_csv(directory + file, header=None)\n",
    "#txt und nicht csv file\n"
   ]
  },
  {
   "cell_type": "markdown",
   "metadata": {},
   "source": [
    "# Datenformat\n",
    "\n",
    "Jede log-Datei in den Messdaten besteht aus 10 Umdrehungen.\n",
    "Zum modellieren, wird die raw data 50/50 geteilt, und anschliessend vorbereitet\n",
    "\n",
    "Messdateninfos:\n",
    "Die Messdaten haben jeweils 61 Messpunkte/Umdrehung"
   ]
  },
  {
   "cell_type": "code",
   "execution_count": 22,
   "metadata": {},
   "outputs": [
    {
     "name": "stdout",
     "output_type": "stream",
     "text": [
      "            0  Label\n",
      "0    5.051546  hallo\n",
      "1    5.051546  hallo\n",
      "2    5.051546  hallo\n",
      "3    5.051546  hallo\n",
      "4    6.030928  hallo\n",
      "..        ...    ...\n",
      "605  5.051546  hallo\n",
      "606  5.034364  hallo\n",
      "607  5.051546  hallo\n",
      "608  5.051546  hallo\n",
      "609  5.051546  hallo\n",
      "\n",
      "[610 rows x 2 columns]\n"
     ]
    }
   ],
   "source": [
    "directory = \"/Users/annesoballa/Documents/intsys übung/projekt/messungen/\"\n",
    "\n",
    "\n",
    "file = \"logfile_deo_dose_53mm.txt\"\n",
    "file_path = os.path.join(directory, file)\n",
    "df = pd.read_csv(file_path, header=None)\n",
    "\n",
    "\n",
    "def label_data(df, label):\n",
    "    #df = df.drop(df.columns[0], axis=1)\n",
    "    df['Label'] = label * len(df)\n",
    "    \n",
    "    \"\"\"ergänzt dataframe mit einer column, da steht welches objekt gemessen wurde\n",
    "    \"\"\"\n",
    "    return df\n",
    "\n",
    "labels = ['hallo']\n",
    "df = label_data(df, labels)\n",
    "print(df)"
   ]
  },
  {
   "cell_type": "code",
   "execution_count": 44,
   "metadata": {},
   "outputs": [
    {
     "ename": "NameError",
     "evalue": "name 'df' is not defined",
     "output_type": "error",
     "traceback": [
      "\u001b[0;31m---------------------------------------------------------------------------\u001b[0m",
      "\u001b[0;31mNameError\u001b[0m                                 Traceback (most recent call last)",
      "Cell \u001b[0;32mIn[44], line 19\u001b[0m\n\u001b[1;32m     16\u001b[0m     \u001b[38;5;28;01mreturn\u001b[39;00m df_labeled\n\u001b[1;32m     18\u001b[0m labels \u001b[38;5;241m=\u001b[39m [\u001b[38;5;124m'\u001b[39m\u001b[38;5;124mhallo\u001b[39m\u001b[38;5;124m'\u001b[39m]\n\u001b[0;32m---> 19\u001b[0m df \u001b[38;5;241m=\u001b[39m label_data(df,labels)\n\u001b[1;32m     20\u001b[0m \u001b[38;5;28mprint\u001b[39m(df)\n",
      "\u001b[0;31mNameError\u001b[0m: name 'df' is not defined"
     ]
    }
   ],
   "source": [
    "def transform_data(df):\n",
    "    \"\"\"\n",
    "    input 305 measurement points, > 5 turns * 61 measurements\n",
    "    für jeden messpunkt einer drehung die nächsten 61 punkte anhängen\n",
    "         > ACHTUNG!: nur wenn es 61 oder mehr messpunkte bis zum ende des input df gibt!\n",
    "    \"\"\"\n",
    "\n",
    "    return df_single_measurements\n",
    "\n",
    "def label_data(df, label):\n",
    "    df = df.drop(df.columns[0], axis=1)\n",
    "    df['Label'] = label\n",
    "    \n",
    "    \"\"\"ergänzt dataframe mit einer column, da steht welches objekt gemessen wurde\n",
    "    \"\"\"\n",
    "    return df_labeled\n",
    "\n",
    "labels = ['hallo']\n",
    "df = label_data(df,labels)\n",
    "print(df)"
   ]
  }
 ],
 "metadata": {
  "kernelspec": {
   "display_name": ".venv",
   "language": "python",
   "name": "python3"
  },
  "language_info": {
   "codemirror_mode": {
    "name": "ipython",
    "version": 3
   },
   "file_extension": ".py",
   "mimetype": "text/x-python",
   "name": "python",
   "nbconvert_exporter": "python",
   "pygments_lexer": "ipython3",
   "version": "3.11.7"
  }
 },
 "nbformat": 4,
 "nbformat_minor": 2
}
