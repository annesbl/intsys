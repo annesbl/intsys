{
 "cells": [
  {
   "cell_type": "markdown",
   "metadata": {},
   "source": [
    "# Objekterkennung IntSys\n",
    "\n",
    "In diesem Projekt sollen Objekte auf einem Drehteller mithilfe eines Ultraschall Sensors (HCSR04) erkannt werden.\n",
    "\n",
    "Die gemessenen Daten befinden sich im Unterordner \"messdaten\"\n",
    "\n",
    "### Primär orientieren wir uns an der digits-erkennen Übung, und benutzen sklearn"
   ]
  },
  {
   "cell_type": "code",
   "execution_count": 2,
   "metadata": {},
   "outputs": [],
   "source": [
    "import matplotlib.pyplot as plt\n",
    "from sklearn import datasets, metrics, svm\n",
    "from sklearn.model_selection import train_test_split\n",
    "import pandas as pd"
   ]
  },
  {
   "cell_type": "markdown",
   "metadata": {},
   "source": [
    "# Datenformat\n",
    "\n",
    "Jede log-Datei in den Messdaten besteht aus 10 Umdrehungen.\n",
    "Zum modellieren, wird die raw data 50/50 geteilt, und anschliessend vorbereitet\n",
    "\n",
    "Messdateninfos:\n",
    "Die Messdaten haben jeweils 61 Messpunkte/Umdrehung"
   ]
  },
  {
   "cell_type": "code",
   "execution_count": 8,
   "metadata": {},
   "outputs": [],
   "source": [
    "directory = \"messdaten/\"\n",
    "\n",
    "file = \"logfile_deo_dose_53mm.txt\"\n",
    "\n",
    "df = pd.read_csv(directory + file, header=None)"
   ]
  },
  {
   "cell_type": "code",
   "execution_count": 9,
   "metadata": {},
   "outputs": [
    {
     "data": {
      "text/html": [
       "<div>\n",
       "<style scoped>\n",
       "    .dataframe tbody tr th:only-of-type {\n",
       "        vertical-align: middle;\n",
       "    }\n",
       "\n",
       "    .dataframe tbody tr th {\n",
       "        vertical-align: top;\n",
       "    }\n",
       "\n",
       "    .dataframe thead th {\n",
       "        text-align: right;\n",
       "    }\n",
       "</style>\n",
       "<table border=\"1\" class=\"dataframe\">\n",
       "  <thead>\n",
       "    <tr style=\"text-align: right;\">\n",
       "      <th></th>\n",
       "      <th>0</th>\n",
       "    </tr>\n",
       "  </thead>\n",
       "  <tbody>\n",
       "    <tr>\n",
       "      <th>0</th>\n",
       "      <td>5.051546</td>\n",
       "    </tr>\n",
       "    <tr>\n",
       "      <th>1</th>\n",
       "      <td>5.051546</td>\n",
       "    </tr>\n",
       "    <tr>\n",
       "      <th>2</th>\n",
       "      <td>5.051546</td>\n",
       "    </tr>\n",
       "    <tr>\n",
       "      <th>3</th>\n",
       "      <td>5.051546</td>\n",
       "    </tr>\n",
       "    <tr>\n",
       "      <th>4</th>\n",
       "      <td>6.030928</td>\n",
       "    </tr>\n",
       "    <tr>\n",
       "      <th>...</th>\n",
       "      <td>...</td>\n",
       "    </tr>\n",
       "    <tr>\n",
       "      <th>605</th>\n",
       "      <td>5.051546</td>\n",
       "    </tr>\n",
       "    <tr>\n",
       "      <th>606</th>\n",
       "      <td>5.034364</td>\n",
       "    </tr>\n",
       "    <tr>\n",
       "      <th>607</th>\n",
       "      <td>5.051546</td>\n",
       "    </tr>\n",
       "    <tr>\n",
       "      <th>608</th>\n",
       "      <td>5.051546</td>\n",
       "    </tr>\n",
       "    <tr>\n",
       "      <th>609</th>\n",
       "      <td>5.051546</td>\n",
       "    </tr>\n",
       "  </tbody>\n",
       "</table>\n",
       "<p>610 rows × 1 columns</p>\n",
       "</div>"
      ],
      "text/plain": [
       "            0\n",
       "0    5.051546\n",
       "1    5.051546\n",
       "2    5.051546\n",
       "3    5.051546\n",
       "4    6.030928\n",
       "..        ...\n",
       "605  5.051546\n",
       "606  5.034364\n",
       "607  5.051546\n",
       "608  5.051546\n",
       "609  5.051546\n",
       "\n",
       "[610 rows x 1 columns]"
      ]
     },
     "execution_count": 9,
     "metadata": {},
     "output_type": "execute_result"
    }
   ],
   "source": [
    "def transform_data(df):\n",
    "    \"\"\"\n",
    "    input 305 measurement points, > 5 turns * 61 measurements\n",
    "    für jeden messpunkt einer drehung die nächsten 61 punkte anhängen\n",
    "         > ACHTUNG!: nur wenn es 61 oder mehr messpunkte bis zum ende des input df gibt!\n",
    "    \"\"\"\n",
    "\n",
    "    return df_single_measurements\n",
    "\n",
    "def label_data(df, label):\n",
    "    \"\"\"ergänzt dataframe mit einer column, da steht welches objekt gemessen wurde\n",
    "    \"\"\"\n",
    "    return df_labeled\n"
   ]
  }
 ],
 "metadata": {
  "kernelspec": {
   "display_name": ".venv",
   "language": "python",
   "name": "python3"
  },
  "language_info": {
   "codemirror_mode": {
    "name": "ipython",
    "version": 3
   },
   "file_extension": ".py",
   "mimetype": "text/x-python",
   "name": "python",
   "nbconvert_exporter": "python",
   "pygments_lexer": "ipython3",
   "version": "3.10.12"
  }
 },
 "nbformat": 4,
 "nbformat_minor": 2
}
